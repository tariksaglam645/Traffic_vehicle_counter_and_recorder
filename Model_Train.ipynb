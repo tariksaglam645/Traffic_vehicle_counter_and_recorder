{
 "cells": [
  {
   "metadata": {},
   "cell_type": "code",
   "outputs": [],
   "execution_count": null,
   "source": [
    "!pip install roboflow\n",
    "\n",
    "from roboflow import Roboflow\n",
    "rf = Roboflow(api_key=\"####################\")\n",
    "project = rf.workspace(\"utech-susnq\").project(\"license-plate-detection-dataset\")\n",
    "version = project.version(1)\n",
    "dataset = version.download(\"yolov8\")\n"
   ],
   "id": "9ffa291912f68734"
  },
  {
   "metadata": {},
   "cell_type": "code",
   "outputs": [],
   "execution_count": null,
   "source": "!pip install ultralytics\n",
   "id": "ae25f37c08b95e65"
  },
  {
   "metadata": {},
   "cell_type": "code",
   "outputs": [],
   "execution_count": null,
   "source": [
    "from ultralytics import YOLO\n",
    "\n",
    "\n",
    "model = YOLO('/content/License-Plate-Detection-dataset-1/yolov8n.pt')\n",
    "\n",
    "\n",
    "model.train(data='/content/License-Plate-Detection-dataset-1/data.yaml', epochs=35, imgsz=640, batch=16, name='yolov8_custom')\n"
   ],
   "id": "70c9ec75b83a7900"
  }
 ],
 "metadata": {
  "kernelspec": {
   "display_name": "Python 3",
   "language": "python",
   "name": "python3"
  },
  "language_info": {
   "codemirror_mode": {
    "name": "ipython",
    "version": 2
   },
   "file_extension": ".py",
   "mimetype": "text/x-python",
   "name": "python",
   "nbconvert_exporter": "python",
   "pygments_lexer": "ipython2",
   "version": "2.7.6"
  }
 },
 "nbformat": 4,
 "nbformat_minor": 5
}
